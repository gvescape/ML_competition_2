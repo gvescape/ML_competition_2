{
 "cells": [
  {
   "cell_type": "markdown",
   "id": "5657b464",
   "metadata": {
    "papermill": {
     "duration": 0.017713,
     "end_time": "2022-10-31T09:49:58.137607",
     "exception": false,
     "start_time": "2022-10-31T09:49:58.119894",
     "status": "completed"
    },
    "tags": []
   },
   "source": [
    "# **Spaceship Titanic**"
   ]
  },
  {
   "cell_type": "markdown",
   "id": "9cb7af5d",
   "metadata": {
    "papermill": {
     "duration": 0.015688,
     "end_time": "2022-10-31T09:49:58.201918",
     "exception": false,
     "start_time": "2022-10-31T09:49:58.186230",
     "status": "completed"
    },
    "tags": []
   },
   "source": [
    "# **Import Library Datasets**"
   ]
  },
  {
   "cell_type": "code",
   "execution_count": 1,
   "id": "6427b74b",
   "metadata": {},
   "outputs": [
    {
     "name": "stdout",
     "output_type": "stream",
     "text": [
      "Requirement already satisfied: catboost in /Users/saikumargv/opt/miniconda3/lib/python3.9/site-packages (1.1.1)\n",
      "Requirement already satisfied: graphviz in /Users/saikumargv/opt/miniconda3/lib/python3.9/site-packages (from catboost) (0.20.1)\n",
      "Requirement already satisfied: plotly in /Users/saikumargv/opt/miniconda3/lib/python3.9/site-packages (from catboost) (5.11.0)\n",
      "Requirement already satisfied: six in /Users/saikumargv/opt/miniconda3/lib/python3.9/site-packages (from catboost) (1.16.0)\n",
      "Requirement already satisfied: scipy in /Users/saikumargv/opt/miniconda3/lib/python3.9/site-packages (from catboost) (1.9.2)\n",
      "Requirement already satisfied: matplotlib in /Users/saikumargv/opt/miniconda3/lib/python3.9/site-packages (from catboost) (3.6.1)\n",
      "Requirement already satisfied: numpy>=1.16.0 in /Users/saikumargv/opt/miniconda3/lib/python3.9/site-packages (from catboost) (1.23.4)\n",
      "Requirement already satisfied: pandas>=0.24.0 in /Users/saikumargv/opt/miniconda3/lib/python3.9/site-packages (from catboost) (1.5.0)\n",
      "Requirement already satisfied: python-dateutil>=2.8.1 in /Users/saikumargv/opt/miniconda3/lib/python3.9/site-packages (from pandas>=0.24.0->catboost) (2.8.2)\n",
      "Requirement already satisfied: pytz>=2020.1 in /Users/saikumargv/opt/miniconda3/lib/python3.9/site-packages (from pandas>=0.24.0->catboost) (2022.1)\n",
      "Requirement already satisfied: kiwisolver>=1.0.1 in /Users/saikumargv/opt/miniconda3/lib/python3.9/site-packages (from matplotlib->catboost) (1.4.4)\n",
      "Requirement already satisfied: pillow>=6.2.0 in /Users/saikumargv/opt/miniconda3/lib/python3.9/site-packages (from matplotlib->catboost) (9.2.0)\n",
      "Requirement already satisfied: packaging>=20.0 in /Users/saikumargv/opt/miniconda3/lib/python3.9/site-packages (from matplotlib->catboost) (21.3)\n",
      "Requirement already satisfied: contourpy>=1.0.1 in /Users/saikumargv/opt/miniconda3/lib/python3.9/site-packages (from matplotlib->catboost) (1.0.5)\n",
      "Requirement already satisfied: pyparsing>=2.2.1 in /Users/saikumargv/opt/miniconda3/lib/python3.9/site-packages (from matplotlib->catboost) (3.0.9)\n",
      "Requirement already satisfied: fonttools>=4.22.0 in /Users/saikumargv/opt/miniconda3/lib/python3.9/site-packages (from matplotlib->catboost) (4.37.4)\n",
      "Requirement already satisfied: cycler>=0.10 in /Users/saikumargv/opt/miniconda3/lib/python3.9/site-packages (from matplotlib->catboost) (0.11.0)\n",
      "Requirement already satisfied: tenacity>=6.2.0 in /Users/saikumargv/opt/miniconda3/lib/python3.9/site-packages (from plotly->catboost) (8.1.0)\n"
     ]
    }
   ],
   "source": [
    "!pip install catboost"
   ]
  },
  {
   "cell_type": "code",
   "execution_count": 2,
   "id": "2ca6bc45",
   "metadata": {
    "execution": {
     "iopub.execute_input": "2022-10-31T09:49:58.237948Z",
     "iopub.status.busy": "2022-10-31T09:49:58.237329Z",
     "iopub.status.idle": "2022-10-31T09:49:59.817981Z",
     "shell.execute_reply": "2022-10-31T09:49:59.816560Z"
    },
    "papermill": {
     "duration": 1.603244,
     "end_time": "2022-10-31T09:49:59.821684",
     "exception": false,
     "start_time": "2022-10-31T09:49:58.218440",
     "status": "completed"
    },
    "tags": []
   },
   "outputs": [],
   "source": [
    "import numpy as np\n",
    "import pandas as pd\n",
    "from catboost import Pool, CatBoostClassifier as CBC\n",
    "from sklearn.ensemble import GradientBoostingClassifier as GD\n",
    "import matplotlib.pyplot as plt\n",
    "%matplotlib inline\n",
    "import seaborn as sns\n",
    "sns.set(style='darkgrid', font_scale=2)\n",
    "from sklearn.model_selection import train_test_split\n",
    "from sklearn.metrics import accuracy_score as acc_score\n",
    "from sklearn.preprocessing import LabelEncoder\n",
    "from sklearn.model_selection import GridSearchCV as GCV\n",
    "import os\n",
    "for dirname, _, filenames in os.walk('/kaggle/input'):\n",
    "    for filename in filenames:\n",
    "        print(os.path.join(dirname, filename))"
   ]
  },
  {
   "cell_type": "code",
   "execution_count": null,
   "id": "80890b8c",
   "metadata": {
    "execution": {
     "iopub.execute_input": "2022-10-31T09:49:59.858969Z",
     "iopub.status.busy": "2022-10-31T09:49:59.858558Z",
     "iopub.status.idle": "2022-10-31T09:49:59.938403Z",
     "shell.execute_reply": "2022-10-31T09:49:59.937298Z"
    },
    "papermill": {
     "duration": 0.101019,
     "end_time": "2022-10-31T09:49:59.941440",
     "exception": false,
     "start_time": "2022-10-31T09:49:59.840421",
     "status": "completed"
    },
    "tags": []
   },
   "outputs": [],
   "source": []
  },
  {
   "cell_type": "code",
   "execution_count": 3,
   "id": "1dc891ce",
   "metadata": {
    "execution": {
     "iopub.execute_input": "2022-10-31T09:49:59.977136Z",
     "iopub.status.busy": "2022-10-31T09:49:59.976720Z",
     "iopub.status.idle": "2022-10-31T09:50:00.080290Z",
     "shell.execute_reply": "2022-10-31T09:50:00.079117Z"
    },
    "papermill": {
     "duration": 0.123787,
     "end_time": "2022-10-31T09:50:00.082666",
     "exception": false,
     "start_time": "2022-10-31T09:49:59.958879",
     "status": "completed"
    },
    "tags": []
   },
   "outputs": [
    {
     "data": {
      "text/html": [
       "<div>\n",
       "<style scoped>\n",
       "    .dataframe tbody tr th:only-of-type {\n",
       "        vertical-align: middle;\n",
       "    }\n",
       "\n",
       "    .dataframe tbody tr th {\n",
       "        vertical-align: top;\n",
       "    }\n",
       "\n",
       "    .dataframe thead th {\n",
       "        text-align: right;\n",
       "    }\n",
       "</style>\n",
       "<table border=\"1\" class=\"dataframe\">\n",
       "  <thead>\n",
       "    <tr style=\"text-align: right;\">\n",
       "      <th></th>\n",
       "      <th>PassengerId</th>\n",
       "      <th>HomePlanet</th>\n",
       "      <th>CryoSleep</th>\n",
       "      <th>Cabin</th>\n",
       "      <th>Destination</th>\n",
       "      <th>Age</th>\n",
       "      <th>VIP</th>\n",
       "      <th>RoomService</th>\n",
       "      <th>FoodCourt</th>\n",
       "      <th>ShoppingMall</th>\n",
       "      <th>Spa</th>\n",
       "      <th>VRDeck</th>\n",
       "      <th>Name</th>\n",
       "      <th>Transported</th>\n",
       "    </tr>\n",
       "  </thead>\n",
       "  <tbody>\n",
       "    <tr>\n",
       "      <th>0</th>\n",
       "      <td>0001_01</td>\n",
       "      <td>Europa</td>\n",
       "      <td>False</td>\n",
       "      <td>B/0/P</td>\n",
       "      <td>TRAPPIST-1e</td>\n",
       "      <td>39.0</td>\n",
       "      <td>False</td>\n",
       "      <td>0.0</td>\n",
       "      <td>0.0</td>\n",
       "      <td>0.0</td>\n",
       "      <td>0.0</td>\n",
       "      <td>0.0</td>\n",
       "      <td>Maham Ofracculy</td>\n",
       "      <td>False</td>\n",
       "    </tr>\n",
       "    <tr>\n",
       "      <th>1</th>\n",
       "      <td>0002_01</td>\n",
       "      <td>Earth</td>\n",
       "      <td>False</td>\n",
       "      <td>F/0/S</td>\n",
       "      <td>TRAPPIST-1e</td>\n",
       "      <td>24.0</td>\n",
       "      <td>False</td>\n",
       "      <td>109.0</td>\n",
       "      <td>9.0</td>\n",
       "      <td>25.0</td>\n",
       "      <td>549.0</td>\n",
       "      <td>44.0</td>\n",
       "      <td>Juanna Vines</td>\n",
       "      <td>True</td>\n",
       "    </tr>\n",
       "    <tr>\n",
       "      <th>2</th>\n",
       "      <td>0003_01</td>\n",
       "      <td>Europa</td>\n",
       "      <td>False</td>\n",
       "      <td>A/0/S</td>\n",
       "      <td>TRAPPIST-1e</td>\n",
       "      <td>58.0</td>\n",
       "      <td>True</td>\n",
       "      <td>43.0</td>\n",
       "      <td>3576.0</td>\n",
       "      <td>0.0</td>\n",
       "      <td>6715.0</td>\n",
       "      <td>49.0</td>\n",
       "      <td>Altark Susent</td>\n",
       "      <td>False</td>\n",
       "    </tr>\n",
       "    <tr>\n",
       "      <th>3</th>\n",
       "      <td>0003_02</td>\n",
       "      <td>Europa</td>\n",
       "      <td>False</td>\n",
       "      <td>A/0/S</td>\n",
       "      <td>TRAPPIST-1e</td>\n",
       "      <td>33.0</td>\n",
       "      <td>False</td>\n",
       "      <td>0.0</td>\n",
       "      <td>1283.0</td>\n",
       "      <td>371.0</td>\n",
       "      <td>3329.0</td>\n",
       "      <td>193.0</td>\n",
       "      <td>Solam Susent</td>\n",
       "      <td>False</td>\n",
       "    </tr>\n",
       "    <tr>\n",
       "      <th>4</th>\n",
       "      <td>0004_01</td>\n",
       "      <td>Earth</td>\n",
       "      <td>False</td>\n",
       "      <td>F/1/S</td>\n",
       "      <td>TRAPPIST-1e</td>\n",
       "      <td>16.0</td>\n",
       "      <td>False</td>\n",
       "      <td>303.0</td>\n",
       "      <td>70.0</td>\n",
       "      <td>151.0</td>\n",
       "      <td>565.0</td>\n",
       "      <td>2.0</td>\n",
       "      <td>Willy Santantines</td>\n",
       "      <td>True</td>\n",
       "    </tr>\n",
       "  </tbody>\n",
       "</table>\n",
       "</div>"
      ],
      "text/plain": [
       "  PassengerId HomePlanet CryoSleep  Cabin  Destination   Age    VIP  \\\n",
       "0     0001_01     Europa     False  B/0/P  TRAPPIST-1e  39.0  False   \n",
       "1     0002_01      Earth     False  F/0/S  TRAPPIST-1e  24.0  False   \n",
       "2     0003_01     Europa     False  A/0/S  TRAPPIST-1e  58.0   True   \n",
       "3     0003_02     Europa     False  A/0/S  TRAPPIST-1e  33.0  False   \n",
       "4     0004_01      Earth     False  F/1/S  TRAPPIST-1e  16.0  False   \n",
       "\n",
       "   RoomService  FoodCourt  ShoppingMall     Spa  VRDeck               Name  \\\n",
       "0          0.0        0.0           0.0     0.0     0.0    Maham Ofracculy   \n",
       "1        109.0        9.0          25.0   549.0    44.0       Juanna Vines   \n",
       "2         43.0     3576.0           0.0  6715.0    49.0      Altark Susent   \n",
       "3          0.0     1283.0         371.0  3329.0   193.0       Solam Susent   \n",
       "4        303.0       70.0         151.0   565.0     2.0  Willy Santantines   \n",
       "\n",
       "   Transported  \n",
       "0        False  \n",
       "1         True  \n",
       "2        False  \n",
       "3        False  \n",
       "4         True  "
      ]
     },
     "execution_count": 3,
     "metadata": {},
     "output_type": "execute_result"
    }
   ],
   "source": [
    "df_tn = pd.read_csv(r\"/Users/saikumargv/Downloads/spaceship-titanic/train.csv\")\n",
    "df_tt = pd.read_csv(r\"/Users/saikumargv/Downloads/spaceship-titanic/test.csv\")\n",
    "\n",
    "df_tn.head()"
   ]
  },
  {
   "cell_type": "code",
   "execution_count": 4,
   "id": "ba6cb960",
   "metadata": {
    "execution": {
     "iopub.execute_input": "2022-10-31T09:50:00.150867Z",
     "iopub.status.busy": "2022-10-31T09:50:00.150164Z",
     "iopub.status.idle": "2022-10-31T09:50:00.160194Z",
     "shell.execute_reply": "2022-10-31T09:50:00.159148Z"
    },
    "papermill": {
     "duration": 0.030232,
     "end_time": "2022-10-31T09:50:00.162423",
     "exception": false,
     "start_time": "2022-10-31T09:50:00.132191",
     "status": "completed"
    },
    "tags": []
   },
   "outputs": [],
   "source": [
    "df_tn['Train'] = 'Yes'\n",
    "df_tt['Train'] = 'No'"
   ]
  },
  {
   "cell_type": "code",
   "execution_count": 5,
   "id": "a3211e5c",
   "metadata": {
    "execution": {
     "iopub.execute_input": "2022-10-31T09:50:00.197926Z",
     "iopub.status.busy": "2022-10-31T09:50:00.197003Z",
     "iopub.status.idle": "2022-10-31T09:50:00.236744Z",
     "shell.execute_reply": "2022-10-31T09:50:00.235544Z"
    },
    "papermill": {
     "duration": 0.060084,
     "end_time": "2022-10-31T09:50:00.239137",
     "exception": false,
     "start_time": "2022-10-31T09:50:00.179053",
     "status": "completed"
    },
    "tags": []
   },
   "outputs": [
    {
     "name": "stderr",
     "output_type": "stream",
     "text": [
      "/Users/saikumargv/opt/miniconda3/lib/python3.9/site-packages/IPython/lib/pretty.py:778: FutureWarning: In a future version, object-dtype columns with all-bool values will not be included in reductions with bool_only=True. Explicitly cast to bool dtype instead.\n",
      "  output = repr(obj)\n",
      "/Users/saikumargv/opt/miniconda3/lib/python3.9/site-packages/IPython/core/formatters.py:343: FutureWarning: In a future version, object-dtype columns with all-bool values will not be included in reductions with bool_only=True. Explicitly cast to bool dtype instead.\n",
      "  return method()\n"
     ]
    },
    {
     "data": {
      "text/html": [
       "<div>\n",
       "<style scoped>\n",
       "    .dataframe tbody tr th:only-of-type {\n",
       "        vertical-align: middle;\n",
       "    }\n",
       "\n",
       "    .dataframe tbody tr th {\n",
       "        vertical-align: top;\n",
       "    }\n",
       "\n",
       "    .dataframe thead th {\n",
       "        text-align: right;\n",
       "    }\n",
       "</style>\n",
       "<table border=\"1\" class=\"dataframe\">\n",
       "  <thead>\n",
       "    <tr style=\"text-align: right;\">\n",
       "      <th></th>\n",
       "      <th>PassengerId</th>\n",
       "      <th>HomePlanet</th>\n",
       "      <th>CryoSleep</th>\n",
       "      <th>Cabin</th>\n",
       "      <th>Destination</th>\n",
       "      <th>Age</th>\n",
       "      <th>VIP</th>\n",
       "      <th>RoomService</th>\n",
       "      <th>FoodCourt</th>\n",
       "      <th>ShoppingMall</th>\n",
       "      <th>Spa</th>\n",
       "      <th>VRDeck</th>\n",
       "      <th>Name</th>\n",
       "      <th>Transported</th>\n",
       "      <th>Train</th>\n",
       "    </tr>\n",
       "  </thead>\n",
       "  <tbody>\n",
       "    <tr>\n",
       "      <th>0</th>\n",
       "      <td>0001_01</td>\n",
       "      <td>Europa</td>\n",
       "      <td>False</td>\n",
       "      <td>B/0/P</td>\n",
       "      <td>TRAPPIST-1e</td>\n",
       "      <td>39.0</td>\n",
       "      <td>False</td>\n",
       "      <td>0.0</td>\n",
       "      <td>0.0</td>\n",
       "      <td>0.0</td>\n",
       "      <td>0.0</td>\n",
       "      <td>0.0</td>\n",
       "      <td>Maham Ofracculy</td>\n",
       "      <td>False</td>\n",
       "      <td>Yes</td>\n",
       "    </tr>\n",
       "    <tr>\n",
       "      <th>1</th>\n",
       "      <td>0002_01</td>\n",
       "      <td>Earth</td>\n",
       "      <td>False</td>\n",
       "      <td>F/0/S</td>\n",
       "      <td>TRAPPIST-1e</td>\n",
       "      <td>24.0</td>\n",
       "      <td>False</td>\n",
       "      <td>109.0</td>\n",
       "      <td>9.0</td>\n",
       "      <td>25.0</td>\n",
       "      <td>549.0</td>\n",
       "      <td>44.0</td>\n",
       "      <td>Juanna Vines</td>\n",
       "      <td>True</td>\n",
       "      <td>Yes</td>\n",
       "    </tr>\n",
       "    <tr>\n",
       "      <th>2</th>\n",
       "      <td>0003_01</td>\n",
       "      <td>Europa</td>\n",
       "      <td>False</td>\n",
       "      <td>A/0/S</td>\n",
       "      <td>TRAPPIST-1e</td>\n",
       "      <td>58.0</td>\n",
       "      <td>True</td>\n",
       "      <td>43.0</td>\n",
       "      <td>3576.0</td>\n",
       "      <td>0.0</td>\n",
       "      <td>6715.0</td>\n",
       "      <td>49.0</td>\n",
       "      <td>Altark Susent</td>\n",
       "      <td>False</td>\n",
       "      <td>Yes</td>\n",
       "    </tr>\n",
       "    <tr>\n",
       "      <th>3</th>\n",
       "      <td>0003_02</td>\n",
       "      <td>Europa</td>\n",
       "      <td>False</td>\n",
       "      <td>A/0/S</td>\n",
       "      <td>TRAPPIST-1e</td>\n",
       "      <td>33.0</td>\n",
       "      <td>False</td>\n",
       "      <td>0.0</td>\n",
       "      <td>1283.0</td>\n",
       "      <td>371.0</td>\n",
       "      <td>3329.0</td>\n",
       "      <td>193.0</td>\n",
       "      <td>Solam Susent</td>\n",
       "      <td>False</td>\n",
       "      <td>Yes</td>\n",
       "    </tr>\n",
       "    <tr>\n",
       "      <th>4</th>\n",
       "      <td>0004_01</td>\n",
       "      <td>Earth</td>\n",
       "      <td>False</td>\n",
       "      <td>F/1/S</td>\n",
       "      <td>TRAPPIST-1e</td>\n",
       "      <td>16.0</td>\n",
       "      <td>False</td>\n",
       "      <td>303.0</td>\n",
       "      <td>70.0</td>\n",
       "      <td>151.0</td>\n",
       "      <td>565.0</td>\n",
       "      <td>2.0</td>\n",
       "      <td>Willy Santantines</td>\n",
       "      <td>True</td>\n",
       "      <td>Yes</td>\n",
       "    </tr>\n",
       "    <tr>\n",
       "      <th>...</th>\n",
       "      <td>...</td>\n",
       "      <td>...</td>\n",
       "      <td>...</td>\n",
       "      <td>...</td>\n",
       "      <td>...</td>\n",
       "      <td>...</td>\n",
       "      <td>...</td>\n",
       "      <td>...</td>\n",
       "      <td>...</td>\n",
       "      <td>...</td>\n",
       "      <td>...</td>\n",
       "      <td>...</td>\n",
       "      <td>...</td>\n",
       "      <td>...</td>\n",
       "      <td>...</td>\n",
       "    </tr>\n",
       "    <tr>\n",
       "      <th>4272</th>\n",
       "      <td>9266_02</td>\n",
       "      <td>Earth</td>\n",
       "      <td>True</td>\n",
       "      <td>G/1496/S</td>\n",
       "      <td>TRAPPIST-1e</td>\n",
       "      <td>34.0</td>\n",
       "      <td>False</td>\n",
       "      <td>0.0</td>\n",
       "      <td>0.0</td>\n",
       "      <td>0.0</td>\n",
       "      <td>0.0</td>\n",
       "      <td>0.0</td>\n",
       "      <td>Jeron Peter</td>\n",
       "      <td>NaN</td>\n",
       "      <td>No</td>\n",
       "    </tr>\n",
       "    <tr>\n",
       "      <th>4273</th>\n",
       "      <td>9269_01</td>\n",
       "      <td>Earth</td>\n",
       "      <td>False</td>\n",
       "      <td>NaN</td>\n",
       "      <td>TRAPPIST-1e</td>\n",
       "      <td>42.0</td>\n",
       "      <td>False</td>\n",
       "      <td>0.0</td>\n",
       "      <td>847.0</td>\n",
       "      <td>17.0</td>\n",
       "      <td>10.0</td>\n",
       "      <td>144.0</td>\n",
       "      <td>Matty Scheron</td>\n",
       "      <td>NaN</td>\n",
       "      <td>No</td>\n",
       "    </tr>\n",
       "    <tr>\n",
       "      <th>4274</th>\n",
       "      <td>9271_01</td>\n",
       "      <td>Mars</td>\n",
       "      <td>True</td>\n",
       "      <td>D/296/P</td>\n",
       "      <td>55 Cancri e</td>\n",
       "      <td>NaN</td>\n",
       "      <td>False</td>\n",
       "      <td>0.0</td>\n",
       "      <td>0.0</td>\n",
       "      <td>0.0</td>\n",
       "      <td>0.0</td>\n",
       "      <td>0.0</td>\n",
       "      <td>Jayrin Pore</td>\n",
       "      <td>NaN</td>\n",
       "      <td>No</td>\n",
       "    </tr>\n",
       "    <tr>\n",
       "      <th>4275</th>\n",
       "      <td>9273_01</td>\n",
       "      <td>Europa</td>\n",
       "      <td>False</td>\n",
       "      <td>D/297/P</td>\n",
       "      <td>NaN</td>\n",
       "      <td>NaN</td>\n",
       "      <td>False</td>\n",
       "      <td>0.0</td>\n",
       "      <td>2680.0</td>\n",
       "      <td>0.0</td>\n",
       "      <td>0.0</td>\n",
       "      <td>523.0</td>\n",
       "      <td>Kitakan Conale</td>\n",
       "      <td>NaN</td>\n",
       "      <td>No</td>\n",
       "    </tr>\n",
       "    <tr>\n",
       "      <th>4276</th>\n",
       "      <td>9277_01</td>\n",
       "      <td>Earth</td>\n",
       "      <td>True</td>\n",
       "      <td>G/1498/S</td>\n",
       "      <td>PSO J318.5-22</td>\n",
       "      <td>43.0</td>\n",
       "      <td>False</td>\n",
       "      <td>0.0</td>\n",
       "      <td>0.0</td>\n",
       "      <td>0.0</td>\n",
       "      <td>0.0</td>\n",
       "      <td>0.0</td>\n",
       "      <td>Lilace Leonzaley</td>\n",
       "      <td>NaN</td>\n",
       "      <td>No</td>\n",
       "    </tr>\n",
       "  </tbody>\n",
       "</table>\n",
       "<p>12970 rows × 15 columns</p>\n",
       "</div>"
      ],
      "text/plain": [
       "     PassengerId HomePlanet CryoSleep     Cabin    Destination   Age    VIP  \\\n",
       "0        0001_01     Europa     False     B/0/P    TRAPPIST-1e  39.0  False   \n",
       "1        0002_01      Earth     False     F/0/S    TRAPPIST-1e  24.0  False   \n",
       "2        0003_01     Europa     False     A/0/S    TRAPPIST-1e  58.0   True   \n",
       "3        0003_02     Europa     False     A/0/S    TRAPPIST-1e  33.0  False   \n",
       "4        0004_01      Earth     False     F/1/S    TRAPPIST-1e  16.0  False   \n",
       "...          ...        ...       ...       ...            ...   ...    ...   \n",
       "4272     9266_02      Earth      True  G/1496/S    TRAPPIST-1e  34.0  False   \n",
       "4273     9269_01      Earth     False       NaN    TRAPPIST-1e  42.0  False   \n",
       "4274     9271_01       Mars      True   D/296/P    55 Cancri e   NaN  False   \n",
       "4275     9273_01     Europa     False   D/297/P            NaN   NaN  False   \n",
       "4276     9277_01      Earth      True  G/1498/S  PSO J318.5-22  43.0  False   \n",
       "\n",
       "      RoomService  FoodCourt  ShoppingMall     Spa  VRDeck               Name  \\\n",
       "0             0.0        0.0           0.0     0.0     0.0    Maham Ofracculy   \n",
       "1           109.0        9.0          25.0   549.0    44.0       Juanna Vines   \n",
       "2            43.0     3576.0           0.0  6715.0    49.0      Altark Susent   \n",
       "3             0.0     1283.0         371.0  3329.0   193.0       Solam Susent   \n",
       "4           303.0       70.0         151.0   565.0     2.0  Willy Santantines   \n",
       "...           ...        ...           ...     ...     ...                ...   \n",
       "4272          0.0        0.0           0.0     0.0     0.0        Jeron Peter   \n",
       "4273          0.0      847.0          17.0    10.0   144.0      Matty Scheron   \n",
       "4274          0.0        0.0           0.0     0.0     0.0        Jayrin Pore   \n",
       "4275          0.0     2680.0           0.0     0.0   523.0     Kitakan Conale   \n",
       "4276          0.0        0.0           0.0     0.0     0.0   Lilace Leonzaley   \n",
       "\n",
       "     Transported Train  \n",
       "0          False   Yes  \n",
       "1           True   Yes  \n",
       "2          False   Yes  \n",
       "3          False   Yes  \n",
       "4           True   Yes  \n",
       "...          ...   ...  \n",
       "4272         NaN    No  \n",
       "4273         NaN    No  \n",
       "4274         NaN    No  \n",
       "4275         NaN    No  \n",
       "4276         NaN    No  \n",
       "\n",
       "[12970 rows x 15 columns]"
      ]
     },
     "execution_count": 5,
     "metadata": {},
     "output_type": "execute_result"
    }
   ],
   "source": [
    "combine = pd.concat([df_tn, df_tt])\n",
    "combine"
   ]
  },
  {
   "cell_type": "markdown",
   "id": "04467499",
   "metadata": {
    "papermill": {
     "duration": 0.016656,
     "end_time": "2022-10-31T09:50:00.272866",
     "exception": false,
     "start_time": "2022-10-31T09:50:00.256210",
     "status": "completed"
    },
    "tags": []
   },
   "source": [
    "# **EDA (Exploratory Data Analysis)**"
   ]
  },
  {
   "cell_type": "code",
   "execution_count": 6,
   "id": "1d2b8105",
   "metadata": {
    "execution": {
     "iopub.execute_input": "2022-10-31T09:50:00.341623Z",
     "iopub.status.busy": "2022-10-31T09:50:00.341213Z",
     "iopub.status.idle": "2022-10-31T09:50:01.446649Z",
     "shell.execute_reply": "2022-10-31T09:50:01.445404Z"
    },
    "papermill": {
     "duration": 1.126311,
     "end_time": "2022-10-31T09:50:01.449332",
     "exception": false,
     "start_time": "2022-10-31T09:50:00.323021",
     "status": "completed"
    },
    "tags": []
   },
   "outputs": [
    {
     "data": {
      "image/png": "[encoded data removed]",
      "text/plain": [
       "<Figure size 1200x1200 with 6 Axes>"
      ]
     },
     "metadata": {},
     "output_type": "display_data"
    }
   ],
   "source": [
    "combine.hist(bins = 25, figsize = (12, 12))\n",
    "plt.show()"
   ]
  },
  {
   "cell_type": "code",
   "execution_count": 7,
   "id": "6eb0a966",
   "metadata": {
    "execution": {
     "iopub.execute_input": "2022-10-31T09:50:01.487042Z",
     "iopub.status.busy": "2022-10-31T09:50:01.486642Z",
     "iopub.status.idle": "2022-10-31T09:50:02.306561Z",
     "shell.execute_reply": "2022-10-31T09:50:02.305390Z"
    },
    "papermill": {
     "duration": 0.841749,
     "end_time": "2022-10-31T09:50:02.309179",
     "exception": false,
     "start_time": "2022-10-31T09:50:01.467430",
     "status": "completed"
    },
    "tags": []
   },
   "outputs": [
    {
     "ename": "NameError",
     "evalue": "name 'concat' is not defined",
     "output_type": "error",
     "traceback": [
      "\u001b[0;31m---------------------------------------------------------------------------\u001b[0m",
      "\u001b[0;31mNameError\u001b[0m                                 Traceback (most recent call last)",
      "Input \u001b[0;32mIn [7]\u001b[0m, in \u001b[0;36m<cell line: 4>\u001b[0;34m()\u001b[0m\n\u001b[1;32m      4\u001b[0m \u001b[38;5;28;01mfor\u001b[39;00m i \u001b[38;5;129;01min\u001b[39;00m \u001b[38;5;28mrange\u001b[39m(\u001b[38;5;241m0\u001b[39m,\u001b[38;5;28mlen\u001b[39m(columns)):\n\u001b[1;32m      5\u001b[0m     q, r \u001b[38;5;241m=\u001b[39m\u001b[38;5;28mdivmod\u001b[39m(i, \u001b[38;5;241m2\u001b[39m)\n\u001b[0;32m----> 6\u001b[0m     sns\u001b[38;5;241m.\u001b[39mboxplot(data\u001b[38;5;241m=\u001b[39m\u001b[43mconcat\u001b[49m, x\u001b[38;5;241m=\u001b[39mcolumns[i], ax\u001b[38;5;241m=\u001b[39max[q, r])\n\u001b[1;32m      7\u001b[0m plt\u001b[38;5;241m.\u001b[39mshow()\n",
      "\u001b[0;31mNameError\u001b[0m: name 'concat' is not defined"
     ]
    },
    {
     "data": {
      "image/png": "[encoded data removed]",
      "text/plain": [
       "<Figure size 1800x1000 with 6 Axes>"
      ]
     },
     "metadata": {},
     "output_type": "display_data"
    }
   ],
   "source": [
    "columns=['Age', 'RoomService', 'FoodCourt', 'ShoppingMall', 'Spa', 'VRDeck',]\n",
    "q, r =divmod(len(columns), 2)\n",
    "fig, ax=plt.subplots(q, 2, figsize=(18,10))\n",
    "for i in range(0,len(columns)):\n",
    "    q, r =divmod(i, 2)\n",
    "    sns.boxplot(data=concat, x=columns[i], ax=ax[q, r])\n",
    "plt.show()"
   ]
  },
  {
   "cell_type": "markdown",
   "id": "444b4de0",
   "metadata": {
    "papermill": {
     "duration": 0.024228,
     "end_time": "2022-10-31T09:50:02.352656",
     "exception": false,
     "start_time": "2022-10-31T09:50:02.328428",
     "status": "completed"
    },
    "tags": []
   },
   "source": [
    "# **Feature engineering**"
   ]
  },
  {
   "cell_type": "markdown",
   "id": "2b8ff07f",
   "metadata": {
    "papermill": {
     "duration": 0.029194,
     "end_time": "2022-10-31T09:50:02.402178",
     "exception": false,
     "start_time": "2022-10-31T09:50:02.372984",
     "status": "completed"
    },
    "tags": []
   },
   "source": [
    "# Imputation"
   ]
  },
  {
   "cell_type": "code",
   "execution_count": null,
   "id": "7359760b",
   "metadata": {
    "execution": {
     "iopub.execute_input": "2022-10-31T09:50:02.504220Z",
     "iopub.status.busy": "2022-10-31T09:50:02.503303Z",
     "iopub.status.idle": "2022-10-31T09:50:02.520006Z",
     "shell.execute_reply": "2022-10-31T09:50:02.518954Z"
    },
    "papermill": {
     "duration": 0.040912,
     "end_time": "2022-10-31T09:50:02.522502",
     "exception": false,
     "start_time": "2022-10-31T09:50:02.481590",
     "status": "completed"
    },
    "tags": []
   },
   "outputs": [],
   "source": [
    "combine.isnull().sum()"
   ]
  },
  {
   "cell_type": "markdown",
   "id": "6aab1e78",
   "metadata": {
    "papermill": {
     "duration": 0.01877,
     "end_time": "2022-10-31T09:50:02.562040",
     "exception": false,
     "start_time": "2022-10-31T09:50:02.543270",
     "status": "completed"
    },
    "tags": []
   },
   "source": [
    "**Missing Data (Numerical)**"
   ]
  },
  {
   "cell_type": "code",
   "execution_count": null,
   "id": "e0e2af6a",
   "metadata": {
    "execution": {
     "iopub.execute_input": "2022-10-31T09:50:02.649590Z",
     "iopub.status.busy": "2022-10-31T09:50:02.648859Z",
     "iopub.status.idle": "2022-10-31T09:50:02.660645Z",
     "shell.execute_reply": "2022-10-31T09:50:02.659844Z"
    },
    "papermill": {
     "duration": 0.036197,
     "end_time": "2022-10-31T09:50:02.663189",
     "exception": false,
     "start_time": "2022-10-31T09:50:02.626992",
     "status": "completed"
    },
    "tags": []
   },
   "outputs": [],
   "source": [
    "combine[['Age', 'RoomService','FoodCourt','ShoppingMall','Spa','VRDeck']].median()"
   ]
  },
  {
   "cell_type": "code",
   "execution_count": null,
   "id": "5c7104af",
   "metadata": {
    "execution": {
     "iopub.execute_input": "2022-10-31T09:50:02.724883Z",
     "iopub.status.busy": "2022-10-31T09:50:02.724340Z",
     "iopub.status.idle": "2022-10-31T09:50:02.734376Z",
     "shell.execute_reply": "2022-10-31T09:50:02.733280Z"
    },
    "papermill": {
     "duration": 0.04585,
     "end_time": "2022-10-31T09:50:02.737252",
     "exception": false,
     "start_time": "2022-10-31T09:50:02.691402",
     "status": "completed"
    },
    "tags": []
   },
   "outputs": [],
   "source": [
    "combine[['RoomService','FoodCourt','ShoppingMall','Spa','VRDeck']] = concat[['RoomService','FoodCourt','ShoppingMall','Spa','VRDeck']].fillna(0)"
   ]
  },
  {
   "cell_type": "code",
   "execution_count": null,
   "id": "9db69c11",
   "metadata": {
    "execution": {
     "iopub.execute_input": "2022-10-31T09:50:02.789574Z",
     "iopub.status.busy": "2022-10-31T09:50:02.788135Z",
     "iopub.status.idle": "2022-10-31T09:50:02.796079Z",
     "shell.execute_reply": "2022-10-31T09:50:02.795178Z"
    },
    "papermill": {
     "duration": 0.033586,
     "end_time": "2022-10-31T09:50:02.798425",
     "exception": false,
     "start_time": "2022-10-31T09:50:02.764839",
     "status": "completed"
    },
    "tags": []
   },
   "outputs": [],
   "source": [
    "combine['Age'] = combine['Age'].fillna(combine['Age'].median())"
   ]
  },
  {
   "cell_type": "markdown",
   "id": "14f1e762",
   "metadata": {
    "papermill": {
     "duration": 0.020146,
     "end_time": "2022-10-31T09:50:02.838701",
     "exception": false,
     "start_time": "2022-10-31T09:50:02.818555",
     "status": "completed"
    },
    "tags": []
   },
   "source": [
    "**Missing Data (Categorical)**"
   ]
  },
  {
   "cell_type": "code",
   "execution_count": null,
   "id": "ee8153a3",
   "metadata": {
    "execution": {
     "iopub.execute_input": "2022-10-31T09:50:02.922866Z",
     "iopub.status.busy": "2022-10-31T09:50:02.922014Z",
     "iopub.status.idle": "2022-10-31T09:50:02.934107Z",
     "shell.execute_reply": "2022-10-31T09:50:02.933080Z"
    },
    "papermill": {
     "duration": 0.037001,
     "end_time": "2022-10-31T09:50:02.936382",
     "exception": false,
     "start_time": "2022-10-31T09:50:02.899381",
     "status": "completed"
    },
    "tags": []
   },
   "outputs": [],
   "source": [
    "combine['VIP'].value_counts()"
   ]
  },
  {
   "cell_type": "code",
   "execution_count": null,
   "id": "41be6173",
   "metadata": {
    "execution": {
     "iopub.execute_input": "2022-10-31T09:50:02.978279Z",
     "iopub.status.busy": "2022-10-31T09:50:02.977548Z",
     "iopub.status.idle": "2022-10-31T09:50:02.985767Z",
     "shell.execute_reply": "2022-10-31T09:50:02.984978Z"
    },
    "papermill": {
     "duration": 0.031685,
     "end_time": "2022-10-31T09:50:02.988081",
     "exception": false,
     "start_time": "2022-10-31T09:50:02.956396",
     "status": "completed"
    },
    "tags": []
   },
   "outputs": [],
   "source": [
    "combine['VIP'] = combine['VIP'].fillna(False)"
   ]
  },
  {
   "cell_type": "code",
   "execution_count": null,
   "id": "9a97ac60",
   "metadata": {
    "execution": {
     "iopub.execute_input": "2022-10-31T09:50:03.029844Z",
     "iopub.status.busy": "2022-10-31T09:50:03.029133Z",
     "iopub.status.idle": "2022-10-31T09:50:03.038344Z",
     "shell.execute_reply": "2022-10-31T09:50:03.037472Z"
    },
    "papermill": {
     "duration": 0.033089,
     "end_time": "2022-10-31T09:50:03.040539",
     "exception": false,
     "start_time": "2022-10-31T09:50:03.007450",
     "status": "completed"
    },
    "tags": []
   },
   "outputs": [],
   "source": [
    "combine['HomePlanet'].value_counts()"
   ]
  },
  {
   "cell_type": "code",
   "execution_count": null,
   "id": "06ccd065",
   "metadata": {
    "execution": {
     "iopub.execute_input": "2022-10-31T09:50:03.082153Z",
     "iopub.status.busy": "2022-10-31T09:50:03.081337Z",
     "iopub.status.idle": "2022-10-31T09:50:03.089399Z",
     "shell.execute_reply": "2022-10-31T09:50:03.088195Z"
    },
    "papermill": {
     "duration": 0.031565,
     "end_time": "2022-10-31T09:50:03.091817",
     "exception": false,
     "start_time": "2022-10-31T09:50:03.060252",
     "status": "completed"
    },
    "tags": []
   },
   "outputs": [],
   "source": [
    "combine['HomePlanet'] = combine['HomePlanet'].fillna('Mars')"
   ]
  },
  {
   "cell_type": "code",
   "execution_count": null,
   "id": "a46606d9",
   "metadata": {
    "execution": {
     "iopub.execute_input": "2022-10-31T09:50:03.134468Z",
     "iopub.status.busy": "2022-10-31T09:50:03.133437Z",
     "iopub.status.idle": "2022-10-31T09:50:03.145531Z",
     "shell.execute_reply": "2022-10-31T09:50:03.144426Z"
    },
    "papermill": {
     "duration": 0.035859,
     "end_time": "2022-10-31T09:50:03.147803",
     "exception": false,
     "start_time": "2022-10-31T09:50:03.111944",
     "status": "completed"
    },
    "tags": []
   },
   "outputs": [],
   "source": [
    "combine['Destination'].value_counts()"
   ]
  },
  {
   "cell_type": "code",
   "execution_count": null,
   "id": "600b1d5e",
   "metadata": {
    "execution": {
     "iopub.execute_input": "2022-10-31T09:50:03.189541Z",
     "iopub.status.busy": "2022-10-31T09:50:03.189171Z",
     "iopub.status.idle": "2022-10-31T09:50:03.195422Z",
     "shell.execute_reply": "2022-10-31T09:50:03.194532Z"
    },
    "papermill": {
     "duration": 0.029577,
     "end_time": "2022-10-31T09:50:03.198057",
     "exception": false,
     "start_time": "2022-10-31T09:50:03.168480",
     "status": "completed"
    },
    "tags": []
   },
   "outputs": [],
   "source": [
    "combine['Destination'] =combine['Destination'].fillna(\"'TRAPPIST-1e\")"
   ]
  },
  {
   "cell_type": "code",
   "execution_count": null,
   "id": "55678f80",
   "metadata": {
    "execution": {
     "iopub.execute_input": "2022-10-31T09:50:03.245838Z",
     "iopub.status.busy": "2022-10-31T09:50:03.245345Z",
     "iopub.status.idle": "2022-10-31T09:50:03.255329Z",
     "shell.execute_reply": "2022-10-31T09:50:03.254428Z"
    },
    "papermill": {
     "duration": 0.033104,
     "end_time": "2022-10-31T09:50:03.257639",
     "exception": false,
     "start_time": "2022-10-31T09:50:03.224535",
     "status": "completed"
    },
    "tags": []
   },
   "outputs": [],
   "source": [
    "combine['CryoSleep'].value_counts()"
   ]
  },
  {
   "cell_type": "code",
   "execution_count": null,
   "id": "599c7021",
   "metadata": {
    "execution": {
     "iopub.execute_input": "2022-10-31T09:50:03.298571Z",
     "iopub.status.busy": "2022-10-31T09:50:03.297706Z",
     "iopub.status.idle": "2022-10-31T09:50:03.308338Z",
     "shell.execute_reply": "2022-10-31T09:50:03.307318Z"
    },
    "papermill": {
     "duration": 0.033892,
     "end_time": "2022-10-31T09:50:03.311111",
     "exception": false,
     "start_time": "2022-10-31T09:50:03.277219",
     "status": "completed"
    },
    "tags": []
   },
   "outputs": [],
   "source": [
    "combine['CryoSleep'] = combine['CryoSleep'].fillna(False)"
   ]
  },
  {
   "cell_type": "code",
   "execution_count": null,
   "id": "b51e71b5",
   "metadata": {
    "execution": {
     "iopub.execute_input": "2022-10-31T09:50:03.391389Z",
     "iopub.status.busy": "2022-10-31T09:50:03.391005Z",
     "iopub.status.idle": "2022-10-31T09:50:03.577016Z",
     "shell.execute_reply": "2022-10-31T09:50:03.575858Z"
    },
    "papermill": {
     "duration": 0.209323,
     "end_time": "2022-10-31T09:50:03.579400",
     "exception": false,
     "start_time": "2022-10-31T09:50:03.370077",
     "status": "completed"
    },
    "tags": []
   },
   "outputs": [],
   "source": [
    "combine[['Deck', 'Num', 'Side']] = combine['Cabin'].str.split('/', expand=True)\n",
    "combine"
   ]
  },
  {
   "cell_type": "code",
   "execution_count": null,
   "id": "32464b93",
   "metadata": {
    "execution": {
     "iopub.execute_input": "2022-10-31T09:50:03.622454Z",
     "iopub.status.busy": "2022-10-31T09:50:03.621767Z",
     "iopub.status.idle": "2022-10-31T09:50:03.631036Z",
     "shell.execute_reply": "2022-10-31T09:50:03.630189Z"
    },
    "papermill": {
     "duration": 0.033147,
     "end_time": "2022-10-31T09:50:03.633164",
     "exception": false,
     "start_time": "2022-10-31T09:50:03.600017",
     "status": "completed"
    },
    "tags": []
   },
   "outputs": [],
   "source": [
    "combine['Deck'].value_counts()"
   ]
  },
  {
   "cell_type": "code",
   "execution_count": null,
   "id": "e3bd65ce",
   "metadata": {
    "execution": {
     "iopub.execute_input": "2022-10-31T09:50:03.678188Z",
     "iopub.status.busy": "2022-10-31T09:50:03.677227Z",
     "iopub.status.idle": "2022-10-31T09:50:03.683664Z",
     "shell.execute_reply": "2022-10-31T09:50:03.682791Z"
    },
    "papermill": {
     "duration": 0.031454,
     "end_time": "2022-10-31T09:50:03.685917",
     "exception": false,
     "start_time": "2022-10-31T09:50:03.654463",
     "status": "completed"
    },
    "tags": []
   },
   "outputs": [],
   "source": [
    "combine['Deck'] = combine['Deck'].fillna('T')"
   ]
  },
  {
   "cell_type": "code",
   "execution_count": null,
   "id": "68c961ca",
   "metadata": {
    "execution": {
     "iopub.execute_input": "2022-10-31T09:50:03.730234Z",
     "iopub.status.busy": "2022-10-31T09:50:03.729624Z",
     "iopub.status.idle": "2022-10-31T09:50:03.740389Z",
     "shell.execute_reply": "2022-10-31T09:50:03.739182Z"
    },
    "papermill": {
     "duration": 0.03559,
     "end_time": "2022-10-31T09:50:03.742712",
     "exception": false,
     "start_time": "2022-10-31T09:50:03.707122",
     "status": "completed"
    },
    "tags": []
   },
   "outputs": [],
   "source": [
    "combine['Num'].value_counts()"
   ]
  },
  {
   "cell_type": "code",
   "execution_count": null,
   "id": "a138239a",
   "metadata": {
    "execution": {
     "iopub.execute_input": "2022-10-31T09:50:03.786224Z",
     "iopub.status.busy": "2022-10-31T09:50:03.785032Z",
     "iopub.status.idle": "2022-10-31T09:50:03.792255Z",
     "shell.execute_reply": "2022-10-31T09:50:03.791503Z"
    },
    "papermill": {
     "duration": 0.031348,
     "end_time": "2022-10-31T09:50:03.794365",
     "exception": false,
     "start_time": "2022-10-31T09:50:03.763017",
     "status": "completed"
    },
    "tags": []
   },
   "outputs": [],
   "source": [
    "combine['Num'] = combine['Num'].fillna('0')"
   ]
  },
  {
   "cell_type": "code",
   "execution_count": null,
   "id": "13512742",
   "metadata": {
    "execution": {
     "iopub.execute_input": "2022-10-31T09:50:03.837985Z",
     "iopub.status.busy": "2022-10-31T09:50:03.836898Z",
     "iopub.status.idle": "2022-10-31T09:50:03.845781Z",
     "shell.execute_reply": "2022-10-31T09:50:03.844711Z"
    },
    "papermill": {
     "duration": 0.032751,
     "end_time": "2022-10-31T09:50:03.847771",
     "exception": false,
     "start_time": "2022-10-31T09:50:03.815020",
     "status": "completed"
    },
    "tags": []
   },
   "outputs": [],
   "source": [
    "combine['Side'].value_counts()"
   ]
  },
  {
   "cell_type": "code",
   "execution_count": null,
   "id": "f92c20bc",
   "metadata": {
    "execution": {
     "iopub.execute_input": "2022-10-31T09:50:03.891534Z",
     "iopub.status.busy": "2022-10-31T09:50:03.891105Z",
     "iopub.status.idle": "2022-10-31T09:50:03.898008Z",
     "shell.execute_reply": "2022-10-31T09:50:03.896994Z"
    },
    "papermill": {
     "duration": 0.031605,
     "end_time": "2022-10-31T09:50:03.900135",
     "exception": false,
     "start_time": "2022-10-31T09:50:03.868530",
     "status": "completed"
    },
    "tags": []
   },
   "outputs": [],
   "source": [
    "combine['Side'] = combine['Side'].fillna('P')"
   ]
  },
  {
   "cell_type": "code",
   "execution_count": null,
   "id": "d23bcee7",
   "metadata": {
    "execution": {
     "iopub.execute_input": "2022-10-31T09:50:03.987096Z",
     "iopub.status.busy": "2022-10-31T09:50:03.986616Z",
     "iopub.status.idle": "2022-10-31T09:50:04.024380Z",
     "shell.execute_reply": "2022-10-31T09:50:04.023206Z"
    },
    "papermill": {
     "duration": 0.062972,
     "end_time": "2022-10-31T09:50:04.027172",
     "exception": false,
     "start_time": "2022-10-31T09:50:03.964200",
     "status": "completed"
    },
    "tags": []
   },
   "outputs": [],
   "source": [
    "combine['Sum_spend'] = combine['RoomService'] + combine['FoodCourt'] + combine['ShoppingMall'] + combine['Spa'] + combine['VRDeck']\n",
    "combine"
   ]
  },
  {
   "cell_type": "code",
   "execution_count": null,
   "id": "0e413b56",
   "metadata": {
    "execution": {
     "iopub.execute_input": "2022-10-31T09:50:04.112000Z",
     "iopub.status.busy": "2022-10-31T09:50:04.111534Z",
     "iopub.status.idle": "2022-10-31T09:50:04.153461Z",
     "shell.execute_reply": "2022-10-31T09:50:04.152384Z"
    },
    "papermill": {
     "duration": 0.066524,
     "end_time": "2022-10-31T09:50:04.155913",
     "exception": false,
     "start_time": "2022-10-31T09:50:04.089389",
     "status": "completed"
    },
    "tags": []
   },
   "outputs": [],
   "source": [
    "combine['AgeGroup'] = pd.cut(combine.Age, bins=[-1, 5, 13, 18, 60, 100], labels = ['Baby', 'Child', 'Teen', 'Adult', 'Elderly'])\n",
    "combine"
   ]
  },
  {
   "cell_type": "code",
   "execution_count": null,
   "id": "df0ecd66",
   "metadata": {
    "execution": {
     "iopub.execute_input": "2022-10-31T09:50:04.242546Z",
     "iopub.status.busy": "2022-10-31T09:50:04.241452Z",
     "iopub.status.idle": "2022-10-31T09:50:04.282665Z",
     "shell.execute_reply": "2022-10-31T09:50:04.281486Z"
    },
    "papermill": {
     "duration": 0.065972,
     "end_time": "2022-10-31T09:50:04.285214",
     "exception": false,
     "start_time": "2022-10-31T09:50:04.219242",
     "status": "completed"
    },
    "tags": []
   },
   "outputs": [],
   "source": [
    "combine = combine.drop(['Name', 'Cabin'],axis=1)\n",
    "combine"
   ]
  },
  {
   "cell_type": "code",
   "execution_count": null,
   "id": "f64e9e3c",
   "metadata": {
    "execution": {
     "iopub.execute_input": "2022-10-31T09:50:04.330233Z",
     "iopub.status.busy": "2022-10-31T09:50:04.329815Z",
     "iopub.status.idle": "2022-10-31T09:50:04.345555Z",
     "shell.execute_reply": "2022-10-31T09:50:04.344380Z"
    },
    "papermill": {
     "duration": 0.040744,
     "end_time": "2022-10-31T09:50:04.347598",
     "exception": false,
     "start_time": "2022-10-31T09:50:04.306854",
     "status": "completed"
    },
    "tags": []
   },
   "outputs": [],
   "source": [
    "combine.isnull().sum()"
   ]
  },
  {
   "cell_type": "markdown",
   "id": "9e38d92d",
   "metadata": {
    "papermill": {
     "duration": 0.022402,
     "end_time": "2022-10-31T09:50:04.391625",
     "exception": false,
     "start_time": "2022-10-31T09:50:04.369223",
     "status": "completed"
    },
    "tags": []
   },
   "source": [
    "# Label Encoding"
   ]
  },
  {
   "cell_type": "code",
   "execution_count": null,
   "id": "3ade81d4",
   "metadata": {
    "execution": {
     "iopub.execute_input": "2022-10-31T09:50:04.486119Z",
     "iopub.status.busy": "2022-10-31T09:50:04.485680Z",
     "iopub.status.idle": "2022-10-31T09:50:04.580608Z",
     "shell.execute_reply": "2022-10-31T09:50:04.578729Z"
    },
    "papermill": {
     "duration": 0.121798,
     "end_time": "2022-10-31T09:50:04.583234",
     "exception": false,
     "start_time": "2022-10-31T09:50:04.461436",
     "status": "completed"
    },
    "tags": []
   },
   "outputs": [],
   "source": [
    "from sklearn.preprocessing import LabelEncoder\n",
    "\n",
    "categorical_cols= ['HomePlanet','CryoSleep','Destination','VIP','Deck','Side','Num', 'AgeGroup']\n",
    "for i in categorical_cols:\n",
    "    print(i)\n",
    "    le=LabelEncoder()\n",
    "    arr = np.array(combine[i]).astype(str)\n",
    "    le.fit(arr)\n",
    "    combine[i]=le.transform(combine[i].astype(str))"
   ]
  },
  {
   "cell_type": "code",
   "execution_count": null,
   "id": "85c510b0",
   "metadata": {
    "execution": {
     "iopub.execute_input": "2022-10-31T09:50:04.633827Z",
     "iopub.status.busy": "2022-10-31T09:50:04.632865Z",
     "iopub.status.idle": "2022-10-31T09:50:04.639433Z",
     "shell.execute_reply": "2022-10-31T09:50:04.638464Z"
    },
    "papermill": {
     "duration": 0.034277,
     "end_time": "2022-10-31T09:50:04.641861",
     "exception": false,
     "start_time": "2022-10-31T09:50:04.607584",
     "status": "completed"
    },
    "tags": []
   },
   "outputs": [],
   "source": [
    "combine.set_index('PassengerId',inplace=True)"
   ]
  },
  {
   "cell_type": "code",
   "execution_count": null,
   "id": "c8b5bdd1",
   "metadata": {
    "execution": {
     "iopub.execute_input": "2022-10-31T09:50:04.688959Z",
     "iopub.status.busy": "2022-10-31T09:50:04.688237Z",
     "iopub.status.idle": "2022-10-31T09:50:04.710261Z",
     "shell.execute_reply": "2022-10-31T09:50:04.709163Z"
    },
    "papermill": {
     "duration": 0.048007,
     "end_time": "2022-10-31T09:50:04.712430",
     "exception": false,
     "start_time": "2022-10-31T09:50:04.664423",
     "status": "completed"
    },
    "tags": []
   },
   "outputs": [],
   "source": [
    "combine.head()"
   ]
  },
  {
   "cell_type": "code",
   "execution_count": null,
   "id": "0567c39a",
   "metadata": {
    "execution": {
     "iopub.execute_input": "2022-10-31T09:50:04.803368Z",
     "iopub.status.busy": "2022-10-31T09:50:04.802661Z",
     "iopub.status.idle": "2022-10-31T09:50:04.847370Z",
     "shell.execute_reply": "2022-10-31T09:50:04.846421Z"
    },
    "papermill": {
     "duration": 0.070524,
     "end_time": "2022-10-31T09:50:04.849770",
     "exception": false,
     "start_time": "2022-10-31T09:50:04.779246",
     "status": "completed"
    },
    "tags": []
   },
   "outputs": [],
   "source": [
    "df_tn = combine[concat['Train'] == 'Yes']\n",
    "df_tn.drop('Train', axis=1, inplace=True)\n",
    "df_tn"
   ]
  },
  {
   "cell_type": "code",
   "execution_count": null,
   "id": "f80639e9",
   "metadata": {
    "execution": {
     "iopub.execute_input": "2022-10-31T09:50:04.900314Z",
     "iopub.status.busy": "2022-10-31T09:50:04.899472Z",
     "iopub.status.idle": "2022-10-31T09:50:04.932662Z",
     "shell.execute_reply": "2022-10-31T09:50:04.931794Z"
    },
    "papermill": {
     "duration": 0.062481,
     "end_time": "2022-10-31T09:50:04.935619",
     "exception": false,
     "start_time": "2022-10-31T09:50:04.873138",
     "status": "completed"
    },
    "tags": []
   },
   "outputs": [],
   "source": [
    "df_tt = combine[combine['Train'] == 'No']\n",
    "df_tt.drop('Train', axis=1, inplace=True)\n",
    "df_tt"
   ]
  },
  {
   "cell_type": "code",
   "execution_count": null,
   "id": "2a38a310",
   "metadata": {
    "execution": {
     "iopub.execute_input": "2022-10-31T09:50:05.035468Z",
     "iopub.status.busy": "2022-10-31T09:50:05.035038Z",
     "iopub.status.idle": "2022-10-31T09:50:05.073187Z",
     "shell.execute_reply": "2022-10-31T09:50:05.071771Z"
    },
    "papermill": {
     "duration": 0.06742,
     "end_time": "2022-10-31T09:50:05.075901",
     "exception": false,
     "start_time": "2022-10-31T09:50:05.008481",
     "status": "completed"
    },
    "tags": []
   },
   "outputs": [],
   "source": [
    "df_tn['Transported']=df_tn['Transported'].replace({True:1,False:0})\n",
    "df_tn"
   ]
  },
  {
   "cell_type": "code",
   "execution_count": null,
   "id": "85b412e6",
   "metadata": {
    "execution": {
     "iopub.execute_input": "2022-10-31T09:50:05.177157Z",
     "iopub.status.busy": "2022-10-31T09:50:05.176706Z",
     "iopub.status.idle": "2022-10-31T09:50:05.184090Z",
     "shell.execute_reply": "2022-10-31T09:50:05.183013Z"
    },
    "papermill": {
     "duration": 0.036252,
     "end_time": "2022-10-31T09:50:05.186489",
     "exception": false,
     "start_time": "2022-10-31T09:50:05.150237",
     "status": "completed"
    },
    "tags": []
   },
   "outputs": [],
   "source": [
    "X=df_tn.drop('Transported',axis=1)\n",
    "y = df_tn['Transported']"
   ]
  },
  {
   "cell_type": "code",
   "execution_count": null,
   "id": "877e31c0",
   "metadata": {
    "execution": {
     "iopub.execute_input": "2022-10-31T09:50:05.237868Z",
     "iopub.status.busy": "2022-10-31T09:50:05.237425Z",
     "iopub.status.idle": "2022-10-31T09:50:05.244650Z",
     "shell.execute_reply": "2022-10-31T09:50:05.243551Z"
    },
    "papermill": {
     "duration": 0.035825,
     "end_time": "2022-10-31T09:50:05.246809",
     "exception": false,
     "start_time": "2022-10-31T09:50:05.210984",
     "status": "completed"
    },
    "tags": []
   },
   "outputs": [],
   "source": [
    "X.columns"
   ]
  },
  {
   "cell_type": "code",
   "execution_count": null,
   "id": "962bf289",
   "metadata": {
    "execution": {
     "iopub.execute_input": "2022-10-31T09:50:05.346226Z",
     "iopub.status.busy": "2022-10-31T09:50:05.345207Z",
     "iopub.status.idle": "2022-10-31T09:50:05.356122Z",
     "shell.execute_reply": "2022-10-31T09:50:05.354979Z"
    },
    "papermill": {
     "duration": 0.039773,
     "end_time": "2022-10-31T09:50:05.358724",
     "exception": false,
     "start_time": "2022-10-31T09:50:05.318951",
     "status": "completed"
    },
    "tags": []
   },
   "outputs": [],
   "source": [
    "X_tn, X_v, y_tn, y_v = train_test_split(X, y, test_size=0.2, random_state=0)"
   ]
  },
  {
   "cell_type": "markdown",
   "id": "3d70b131",
   "metadata": {
    "papermill": {
     "duration": 0.024137,
     "end_time": "2022-10-31T09:50:05.407101",
     "exception": false,
     "start_time": "2022-10-31T09:50:05.382964",
     "status": "completed"
    },
    "tags": []
   },
   "source": [
    "# **Model selection**"
   ]
  },
  {
   "cell_type": "code",
   "execution_count": null,
   "id": "bbe93233",
   "metadata": {
    "execution": {
     "iopub.execute_input": "2022-10-31T09:50:05.460393Z",
     "iopub.status.busy": "2022-10-31T09:50:05.460026Z",
     "iopub.status.idle": "2022-10-31T09:50:05.468886Z",
     "shell.execute_reply": "2022-10-31T09:50:05.468119Z"
    },
    "papermill": {
     "duration": 0.038331,
     "end_time": "2022-10-31T09:50:05.471239",
     "exception": false,
     "start_time": "2022-10-31T09:50:05.432908",
     "status": "completed"
    },
    "tags": []
   },
   "outputs": [],
   "source": [
    "from catboost import CatBoostClassifier\n",
    "cat=CBC(iterations=1500,\n",
    "        eval_metric='Accuracy',\n",
    "        verbose=0)"
   ]
  },
  {
   "cell_type": "code",
   "execution_count": null,
   "id": "3d45379e",
   "metadata": {
    "execution": {
     "iopub.execute_input": "2022-10-31T09:50:05.523174Z",
     "iopub.status.busy": "2022-10-31T09:50:05.522059Z",
     "iopub.status.idle": "2022-10-31T09:50:12.541337Z",
     "shell.execute_reply": "2022-10-31T09:50:12.540410Z"
    },
    "papermill": {
     "duration": 7.047797,
     "end_time": "2022-10-31T09:50:12.543758",
     "exception": false,
     "start_time": "2022-10-31T09:50:05.495961",
     "status": "completed"
    },
    "tags": []
   },
   "outputs": [],
   "source": [
    "cat.fit(X_tn,y_tn)"
   ]
  },
  {
   "cell_type": "code",
   "execution_count": null,
   "id": "ec7dbe8a",
   "metadata": {
    "execution": {
     "iopub.execute_input": "2022-10-31T09:50:12.596467Z",
     "iopub.status.busy": "2022-10-31T09:50:12.595779Z",
     "iopub.status.idle": "2022-10-31T09:50:12.617396Z",
     "shell.execute_reply": "2022-10-31T09:50:12.616224Z"
    },
    "papermill": {
     "duration": 0.051041,
     "end_time": "2022-10-31T09:50:12.620083",
     "exception": false,
     "start_time": "2022-10-31T09:50:12.569042",
     "status": "completed"
    },
    "tags": []
   },
   "outputs": [],
   "source": [
    "pred = cat.predict(X_tn)\n",
    "predict_y = cat.predict(X_v)"
   ]
  },
  {
   "cell_type": "code",
   "execution_count": null,
   "id": "26697843",
   "metadata": {
    "execution": {
     "iopub.execute_input": "2022-10-31T09:50:12.719218Z",
     "iopub.status.busy": "2022-10-31T09:50:12.718786Z",
     "iopub.status.idle": "2022-10-31T09:50:12.727263Z",
     "shell.execute_reply": "2022-10-31T09:50:12.725996Z"
    },
    "papermill": {
     "duration": 0.036479,
     "end_time": "2022-10-31T09:50:12.729640",
     "exception": false,
     "start_time": "2022-10-31T09:50:12.693161",
     "status": "completed"
    },
    "tags": []
   },
   "outputs": [],
   "source": [
    "print(acc_score(y_tn.values,pred))\n",
    "print(acc_score(y_v.values,predict_y))"
   ]
  },
  {
   "cell_type": "code",
   "execution_count": null,
   "id": "5f9cdd86",
   "metadata": {
    "execution": {
     "iopub.execute_input": "2022-10-31T09:50:12.780572Z",
     "iopub.status.busy": "2022-10-31T09:50:12.780153Z",
     "iopub.status.idle": "2022-10-31T09:50:12.981250Z",
     "shell.execute_reply": "2022-10-31T09:50:12.980126Z"
    },
    "papermill": {
     "duration": 0.229766,
     "end_time": "2022-10-31T09:50:12.984057",
     "exception": false,
     "start_time": "2022-10-31T09:50:12.754291",
     "status": "completed"
    },
    "tags": []
   },
   "outputs": [],
   "source": [
    "gb=GD(random_state=1,n_estimators=300,learning_rate=0.15,max_depth=4)"
   ]
  },
  {
   "cell_type": "code",
   "execution_count": null,
   "id": "d94c2bab",
   "metadata": {
    "execution": {
     "iopub.execute_input": "2022-10-31T09:50:13.035649Z",
     "iopub.status.busy": "2022-10-31T09:50:13.034539Z",
     "iopub.status.idle": "2022-10-31T09:50:15.810391Z",
     "shell.execute_reply": "2022-10-31T09:50:15.809164Z"
    },
    "papermill": {
     "duration": 2.80403,
     "end_time": "2022-10-31T09:50:15.812835",
     "exception": false,
     "start_time": "2022-10-31T09:50:13.008805",
     "status": "completed"
    },
    "tags": []
   },
   "outputs": [],
   "source": [
    "gb.fit(X_tn,y_tn)"
   ]
  },
  {
   "cell_type": "code",
   "execution_count": null,
   "id": "dc6ffbe2",
   "metadata": {
    "execution": {
     "iopub.execute_input": "2022-10-31T09:50:15.865129Z",
     "iopub.status.busy": "2022-10-31T09:50:15.864627Z",
     "iopub.status.idle": "2022-10-31T09:50:15.903512Z",
     "shell.execute_reply": "2022-10-31T09:50:15.902462Z"
    },
    "papermill": {
     "duration": 0.06822,
     "end_time": "2022-10-31T09:50:15.906034",
     "exception": false,
     "start_time": "2022-10-31T09:50:15.837814",
     "status": "completed"
    },
    "tags": []
   },
   "outputs": [],
   "source": [
    "pred=gb.predict(X_tn)\n",
    "pred_y=gb.predict(X_v)"
   ]
  },
  {
   "cell_type": "code",
   "execution_count": null,
   "id": "089c8c09",
   "metadata": {
    "execution": {
     "iopub.execute_input": "2022-10-31T09:50:16.006418Z",
     "iopub.status.busy": "2022-10-31T09:50:16.006010Z",
     "iopub.status.idle": "2022-10-31T09:50:16.015222Z",
     "shell.execute_reply": "2022-10-31T09:50:16.013750Z"
    },
    "papermill": {
     "duration": 0.038085,
     "end_time": "2022-10-31T09:50:16.017448",
     "exception": false,
     "start_time": "2022-10-31T09:50:15.979363",
     "status": "completed"
    },
    "tags": []
   },
   "outputs": [],
   "source": [
    "print(acc_score(y_tn.values,pred))\n",
    "print(acc_score(y_v.values,predict_y))"
   ]
  },
  {
   "cell_type": "code",
   "execution_count": null,
   "id": "4a87f972",
   "metadata": {
    "execution": {
     "iopub.execute_input": "2022-10-31T09:50:16.117437Z",
     "iopub.status.busy": "2022-10-31T09:50:16.116385Z",
     "iopub.status.idle": "2022-10-31T09:50:16.122459Z",
     "shell.execute_reply": "2022-10-31T09:50:16.121518Z"
    },
    "papermill": {
     "duration": 0.034012,
     "end_time": "2022-10-31T09:50:16.124649",
     "exception": false,
     "start_time": "2022-10-31T09:50:16.090637",
     "status": "completed"
    },
    "tags": []
   },
   "outputs": [],
   "source": [
    "gcv=GCV(CBC(),param_grid={'iterations': range(200,2000,200), 'eval_metric': ['Accuracy'],'verbose':[0]},cv=3)"
   ]
  },
  {
   "cell_type": "code",
   "execution_count": null,
   "id": "54b1271f",
   "metadata": {
    "execution": {
     "iopub.execute_input": "2022-10-31T09:50:16.175860Z",
     "iopub.status.busy": "2022-10-31T09:50:16.174960Z",
     "iopub.status.idle": "2022-10-31T09:51:59.370672Z",
     "shell.execute_reply": "2022-10-31T09:51:59.369542Z"
    },
    "papermill": {
     "duration": 103.248031,
     "end_time": "2022-10-31T09:51:59.397378",
     "exception": false,
     "start_time": "2022-10-31T09:50:16.149347",
     "status": "completed"
    },
    "tags": []
   },
   "outputs": [],
   "source": [
    "gcv.fit(X_tn,y_tn)"
   ]
  },
  {
   "cell_type": "code",
   "execution_count": null,
   "id": "85d5f588",
   "metadata": {
    "execution": {
     "iopub.execute_input": "2022-10-31T09:51:59.449151Z",
     "iopub.status.busy": "2022-10-31T09:51:59.448112Z",
     "iopub.status.idle": "2022-10-31T09:51:59.467151Z",
     "shell.execute_reply": "2022-10-31T09:51:59.466154Z"
    },
    "papermill": {
     "duration": 0.047624,
     "end_time": "2022-10-31T09:51:59.469704",
     "exception": false,
     "start_time": "2022-10-31T09:51:59.422080",
     "status": "completed"
    },
    "tags": []
   },
   "outputs": [],
   "source": [
    "pred=gcv.predict(X_tn)\n",
    "predict_y=gcv.predict(X_val)"
   ]
  },
  {
   "cell_type": "code",
   "execution_count": null,
   "id": "19c606a7",
   "metadata": {
    "execution": {
     "iopub.execute_input": "2022-10-31T09:51:59.570345Z",
     "iopub.status.busy": "2022-10-31T09:51:59.569922Z",
     "iopub.status.idle": "2022-10-31T09:51:59.578500Z",
     "shell.execute_reply": "2022-10-31T09:51:59.576788Z"
    },
    "papermill": {
     "duration": 0.037769,
     "end_time": "2022-10-31T09:51:59.581466",
     "exception": false,
     "start_time": "2022-10-31T09:51:59.543697",
     "status": "completed"
    },
    "tags": []
   },
   "outputs": [],
   "source": [
    "print(acc_score(y_tn.values,pred))\n",
    "print(acc_score(y_v.values,predict_y))"
   ]
  },
  {
   "cell_type": "code",
   "execution_count": null,
   "id": "34c62fc3",
   "metadata": {
    "execution": {
     "iopub.execute_input": "2022-10-31T09:51:59.634287Z",
     "iopub.status.busy": "2022-10-31T09:51:59.633465Z",
     "iopub.status.idle": "2022-10-31T09:53:53.452546Z",
     "shell.execute_reply": "2022-10-31T09:53:53.450238Z"
    },
    "papermill": {
     "duration": 113.871655,
     "end_time": "2022-10-31T09:53:53.478569",
     "exception": false,
     "start_time": "2022-10-31T09:51:59.606914",
     "status": "completed"
    },
    "tags": []
   },
   "outputs": [],
   "source": [
    "gcv.fit(X,y)"
   ]
  },
  {
   "cell_type": "code",
   "execution_count": null,
   "id": "0f61c8f9",
   "metadata": {
    "execution": {
     "iopub.execute_input": "2022-10-31T09:53:53.529980Z",
     "iopub.status.busy": "2022-10-31T09:53:53.529545Z",
     "iopub.status.idle": "2022-10-31T09:53:53.543524Z",
     "shell.execute_reply": "2022-10-31T09:53:53.542633Z"
    },
    "papermill": {
     "duration": 0.042309,
     "end_time": "2022-10-31T09:53:53.545840",
     "exception": false,
     "start_time": "2022-10-31T09:53:53.503531",
     "status": "completed"
    },
    "tags": []
   },
   "outputs": [],
   "source": [
    "y_pred = gcv.predict(df_test)"
   ]
  },
  {
   "cell_type": "markdown",
   "id": "479145ff",
   "metadata": {
    "papermill": {
     "duration": 0.024301,
     "end_time": "2022-10-31T09:53:53.594892",
     "exception": false,
     "start_time": "2022-10-31T09:53:53.570591",
     "status": "completed"
    },
    "tags": []
   },
   "source": [
    "# **Submission**"
   ]
  },
  {
   "cell_type": "code",
   "execution_count": null,
   "id": "d86d6012",
   "metadata": {
    "execution": {
     "iopub.execute_input": "2022-10-31T09:53:53.646563Z",
     "iopub.status.busy": "2022-10-31T09:53:53.645598Z",
     "iopub.status.idle": "2022-10-31T09:53:53.656715Z",
     "shell.execute_reply": "2022-10-31T09:53:53.655788Z"
    },
    "papermill": {
     "duration": 0.038959,
     "end_time": "2022-10-31T09:53:53.658975",
     "exception": false,
     "start_time": "2022-10-31T09:53:53.620016",
     "status": "completed"
    },
    "tags": []
   },
   "outputs": [],
   "source": [
    "sub=pd.DataFrame({'Transported':y_pred.astype(bool)},index=df_test.index)\n",
    "sub.reset_index(inplace=True)\n",
    "sub.head()"
   ]
  },
  {
   "cell_type": "code",
   "execution_count": null,
   "id": "2ccda0b4",
   "metadata": {
    "execution": {
     "iopub.execute_input": "2022-10-31T09:53:53.709863Z",
     "iopub.status.busy": "2022-10-31T09:53:53.709463Z",
     "iopub.status.idle": "2022-10-31T09:53:53.722201Z",
     "shell.execute_reply": "2022-10-31T09:53:53.721361Z"
    },
    "papermill": {
     "duration": 0.040994,
     "end_time": "2022-10-31T09:53:53.724650",
     "exception": false,
     "start_time": "2022-10-31T09:53:53.683656",
     "status": "completed"
    },
    "tags": []
   },
   "outputs": [],
   "source": [
    "sub.to_csv('submission2.csv', index=False)"
   ]
  },
  {
   "cell_type": "code",
   "execution_count": null,
   "id": "d5dc4c2d",
   "metadata": {
    "papermill": {
     "duration": 0.025053,
     "end_time": "2022-10-31T09:53:53.775475",
     "exception": false,
     "start_time": "2022-10-31T09:53:53.750422",
     "status": "completed"
    },
    "tags": []
   },
   "outputs": [],
   "source": []
  }
 ],
 "metadata": {
  "kernelspec": {
   "display_name": "Python 3 (ipykernel)",
   "language": "python",
   "name": "python3"
  },
  "language_info": {
   "codemirror_mode": {
    "name": "ipython",
    "version": 3
   },
   "file_extension": ".py",
   "mimetype": "text/x-python",
   "name": "python",
   "nbconvert_exporter": "python",
   "pygments_lexer": "ipython3",
   "version": "3.9.12"
  },
  "papermill": {
   "default_parameters": {},
   "duration": 244.956091,
   "end_time": "2022-10-31T09:53:54.624291",
   "environment_variables": {},
   "exception": null,
   "input_path": "__notebook__.ipynb",
   "output_path": "__notebook__.ipynb",
   "parameters": {},
   "start_time": "2022-10-31T09:49:49.668200",
   "version": "2.3.4"
  }
 },
 "nbformat": 4,
 "nbformat_minor": 5
}
